{
  "nbformat": 4,
  "nbformat_minor": 0,
  "metadata": {
    "colab": {
      "provenance": [],
      "authorship_tag": "ABX9TyNtTN2GztXqbSp0pJrwz59c",
      "include_colab_link": true
    },
    "kernelspec": {
      "name": "ir",
      "display_name": "R"
    },
    "language_info": {
      "name": "R"
    }
  },
  "cells": [
    {
      "cell_type": "markdown",
      "metadata": {
        "id": "view-in-github",
        "colab_type": "text"
      },
      "source": [
        "<a href=\"https://colab.research.google.com/github/mehvishhkhan/DAV/blob/main/DAV_Exp7-32.ipynb\" target=\"_parent\"><img src=\"https://colab.research.google.com/assets/colab-badge.svg\" alt=\"Open In Colab\"/></a>"
      ]
    },
    {
      "cell_type": "markdown",
      "source": [
        "# AIM:\n",
        "Perform the steps involved in Text Analytics in Python & R"
      ],
      "metadata": {
        "id": "uM6AMXDFgxsk"
      }
    },
    {
      "cell_type": "markdown",
      "source": [
        "# Task to be performend\n",
        "1. Explore Top-5 Text Analytics Libraries in Python (w.r.t Features & Applications)\n",
        "2. Explore Top-5 Text Analytics Libraries in R (w.r.t Features & Applications)\n",
        "3. Perform the following experiments using Python & R\n",
        "\n",
        "  - Tokenization (Sentence & Word)\n",
        "  - Frequency Distribution\n",
        "  - Remove stopwords & punctuations\n",
        "  - Lexicon Normalization (Stemming, Lemmatization)\n",
        "  - Part of Speech tagging\n",
        "  - Named Entity Recognization\n",
        "  - Scrape data from a website"
      ],
      "metadata": {
        "id": "rDiRtAt6g_-F"
      }
    },
    {
      "cell_type": "markdown",
      "source": [
        "# **TEXT ANALYSIS IN PYTHON**"
      ],
      "metadata": {
        "id": "dt6n8ienyAss"
      }
    },
    {
      "cell_type": "code",
      "execution_count": null,
      "metadata": {
        "id": "SU_QPcdlgssK"
      },
      "outputs": [],
      "source": [
        "from nltk.tokenize import sent_tokenize"
      ]
    },
    {
      "cell_type": "code",
      "source": [
        "import nltk\n",
        "nltk.download('punkt')"
      ],
      "metadata": {
        "colab": {
          "base_uri": "https://localhost:8080/"
        },
        "id": "g0Yvuk0QjynM",
        "outputId": "75c35a97-3ed8-42df-fffe-27697f3a52b5"
      },
      "execution_count": null,
      "outputs": [
        {
          "output_type": "stream",
          "name": "stderr",
          "text": [
            "[nltk_data] Downloading package punkt to /root/nltk_data...\n",
            "[nltk_data]   Unzipping tokenizers/punkt.zip.\n"
          ]
        },
        {
          "output_type": "execute_result",
          "data": {
            "text/plain": [
              "True"
            ]
          },
          "metadata": {},
          "execution_count": 5
        }
      ]
    },
    {
      "cell_type": "markdown",
      "source": [
        "**Tokenization - sentence**"
      ],
      "metadata": {
        "id": "PMyQ_zJBj6HU"
      }
    },
    {
      "cell_type": "code",
      "source": [
        "sentence=\"This is Data Analytics experiment 7. We are performing tokenization of a sentence. Tokenization is basically breaking down a paragraph/sentence into smaller chunks or words.\"\n",
        "tokenized_text=sent_tokenize(sentence)\n",
        "print(tokenized_text)"
      ],
      "metadata": {
        "colab": {
          "base_uri": "https://localhost:8080/"
        },
        "id": "6bGn99-TiDlX",
        "outputId": "0c8dab17-4bc0-482e-90e3-ff1d89c6a1ba"
      },
      "execution_count": null,
      "outputs": [
        {
          "output_type": "stream",
          "name": "stdout",
          "text": [
            "['This is Data Analytics experiment 7.', 'We are performing tokenization of a sentence.', 'Tokenization is basically breaking down a paragraph/sentence into smaller chunks or words.']\n"
          ]
        }
      ]
    },
    {
      "cell_type": "markdown",
      "source": [
        "**Tokenization - words**"
      ],
      "metadata": {
        "id": "7gd1JEGnkAPF"
      }
    },
    {
      "cell_type": "code",
      "source": [
        "from nltk.tokenize import word_tokenize"
      ],
      "metadata": {
        "id": "GNas3jd6jOjl"
      },
      "execution_count": null,
      "outputs": []
    },
    {
      "cell_type": "code",
      "source": [
        "tokenized_to_word = word_tokenize(sentence)"
      ],
      "metadata": {
        "id": "C-Tuw_PBkRst"
      },
      "execution_count": null,
      "outputs": []
    },
    {
      "cell_type": "code",
      "source": [
        "print(tokenized_to_word)"
      ],
      "metadata": {
        "colab": {
          "base_uri": "https://localhost:8080/"
        },
        "id": "XUcj5ijjkYzz",
        "outputId": "79f6bdba-9559-4cb2-c0ea-df32833739dd"
      },
      "execution_count": null,
      "outputs": [
        {
          "output_type": "stream",
          "name": "stdout",
          "text": [
            "['This', 'is', 'Data', 'Analytics', 'experiment', '7', '.', 'We', 'are', 'performing', 'tokenization', 'of', 'a', 'sentence', '.', 'Tokenization', 'is', 'basically', 'breaking', 'down', 'a', 'paragraph/sentence', 'into', 'smaller', 'chunks', 'or', 'words', '.']\n"
          ]
        }
      ]
    },
    {
      "cell_type": "markdown",
      "source": [
        "**Frequency Distribution**"
      ],
      "metadata": {
        "id": "NcXfMh_flG5s"
      }
    },
    {
      "cell_type": "code",
      "source": [
        "from nltk.probability import FreqDist"
      ],
      "metadata": {
        "id": "gfNis3Tzko9T"
      },
      "execution_count": null,
      "outputs": []
    },
    {
      "cell_type": "code",
      "source": [
        "fd=FreqDist(tokenized_to_word)"
      ],
      "metadata": {
        "id": "Tl2GOJNemBqL"
      },
      "execution_count": null,
      "outputs": []
    },
    {
      "cell_type": "code",
      "source": [
        "print(fd)"
      ],
      "metadata": {
        "colab": {
          "base_uri": "https://localhost:8080/"
        },
        "id": "ko5irYDSm6VU",
        "outputId": "f67339b4-7231-4952-be07-30782dd6ca18"
      },
      "execution_count": null,
      "outputs": [
        {
          "output_type": "stream",
          "name": "stdout",
          "text": [
            "<FreqDist with 24 samples and 28 outcomes>\n"
          ]
        }
      ]
    },
    {
      "cell_type": "code",
      "source": [
        "print(fd.most_common(2))"
      ],
      "metadata": {
        "colab": {
          "base_uri": "https://localhost:8080/"
        },
        "id": "2HM7Sg_5mRaU",
        "outputId": "b5cc5aeb-f525-4a32-b0be-b88373cc90bb"
      },
      "execution_count": null,
      "outputs": [
        {
          "output_type": "stream",
          "name": "stdout",
          "text": [
            "[('.', 3), ('is', 2)]\n"
          ]
        }
      ]
    },
    {
      "cell_type": "code",
      "source": [
        "import matplotlib.pyplot as plt"
      ],
      "metadata": {
        "id": "oMdzg0FxmJPa"
      },
      "execution_count": null,
      "outputs": []
    },
    {
      "cell_type": "code",
      "source": [
        "fd.plot(24, cumulative=False)\n",
        "plt.show()"
      ],
      "metadata": {
        "colab": {
          "base_uri": "https://localhost:8080/",
          "height": 576
        },
        "id": "K_t5hNn1mjjK",
        "outputId": "a6ecfab4-7229-4f20-a968-b79413170ab7"
      },
      "execution_count": null,
      "outputs": [
        {
          "output_type": "display_data",
          "data": {
            "text/plain": [
              "<Figure size 640x480 with 1 Axes>"
            ],
            "image/png": "[encoded data removed]"
          },
          "metadata": {}
        }
      ]
    },
    {
      "cell_type": "markdown",
      "source": [
        "**Stopwords and punctuations**"
      ],
      "metadata": {
        "id": "xcwxQTntnOQl"
      }
    },
    {
      "cell_type": "markdown",
      "source": [
        "Stopwords are considered noise in text. Text may contain stop words such as is, am, are, this, a, an, the, etc."
      ],
      "metadata": {
        "id": "NtoFObApnSmi"
      }
    },
    {
      "cell_type": "code",
      "source": [
        "from nltk.corpus import stopwords"
      ],
      "metadata": {
        "id": "kL3L4MpGmqh6"
      },
      "execution_count": null,
      "outputs": []
    },
    {
      "cell_type": "code",
      "source": [
        "nltk.download('stopwords')"
      ],
      "metadata": {
        "colab": {
          "base_uri": "https://localhost:8080/"
        },
        "id": "koEkSj24n3XT",
        "outputId": "78c4e263-4623-4533-8448-3a3e33143544"
      },
      "execution_count": null,
      "outputs": [
        {
          "output_type": "stream",
          "name": "stderr",
          "text": [
            "[nltk_data] Downloading package stopwords to /root/nltk_data...\n",
            "[nltk_data]   Unzipping corpora/stopwords.zip.\n"
          ]
        },
        {
          "output_type": "execute_result",
          "data": {
            "text/plain": [
              "True"
            ]
          },
          "metadata": {},
          "execution_count": 28
        }
      ]
    },
    {
      "cell_type": "code",
      "source": [
        "sw = set(stopwords.words(\"english\"))"
      ],
      "metadata": {
        "id": "VK0UhF_hniDr"
      },
      "execution_count": null,
      "outputs": []
    },
    {
      "cell_type": "code",
      "source": [
        "print(sw)"
      ],
      "metadata": {
        "colab": {
          "base_uri": "https://localhost:8080/"
        },
        "id": "eeyPgrI-nqF0",
        "outputId": "02dc75d7-ae5f-460b-dada-9f63966db299"
      },
      "execution_count": null,
      "outputs": [
        {
          "output_type": "stream",
          "name": "stdout",
          "text": [
            "{'hers', \"won't\", 'wouldn', 'herself', 'was', 'of', 'few', 'up', 'whom', 'here', 'her', 'mightn', \"isn't\", 'aren', 'most', \"hasn't\", 'isn', 'd', 'between', 'for', \"you've\", \"needn't\", 'she', 'are', 'against', 'ours', 'into', \"shouldn't\", 'we', \"weren't\", 'off', 'all', 'theirs', 'me', 'while', 'him', 'any', 'needn', 'll', 'been', 'to', 'themselves', \"she's\", 'over', 'an', \"you're\", 'do', 'y', \"doesn't\", 'at', 'when', 'both', 'did', 'because', \"wouldn't\", 'hadn', 'with', 'yourself', 'down', \"hadn't\", 'couldn', 'doesn', 'which', 'you', 'their', \"haven't\", 'so', 'these', 'under', 'own', 'ma', \"couldn't\", \"mustn't\", 'where', 'he', 'don', 'ain', \"should've\", 'is', 'can', \"mightn't\", 'will', 'ourselves', 'has', \"that'll\", 'those', 'than', 'now', 'not', 'what', 'be', 'having', 'there', 'above', \"you'll\", 'during', 'each', \"didn't\", 'were', 'as', 'such', 'i', 'have', 'in', 'some', 'same', 'or', 'before', 'o', 'being', 'myself', 've', 'this', \"you'd\", 'they', 'that', 'itself', 'out', 'too', 'its', 'further', 'does', 're', 'had', 'wasn', 'but', 'only', \"don't\", 'should', \"aren't\", 'then', 'from', \"wasn't\", 'by', 'nor', 'shan', 'through', 'once', 'and', 'the', 'shouldn', 'on', 'if', 'hasn', 'haven', \"shan't\", 'until', 's', 'his', 'other', 'again', 'yourselves', 'no', 'how', 'yours', 'more', 'won', 'very', 'why', 'it', 'below', 'm', 't', 'my', 'didn', 'doing', 'just', 'our', 'after', 'them', 'himself', \"it's\", 'am', 'weren', 'mustn', 'your', 'about', 'who', 'a'}\n"
          ]
        }
      ]
    },
    {
      "cell_type": "code",
      "source": [
        "filtered_tokens=[]\n",
        "for w in tokenized_to_word:\n",
        "    if w not in sw:\n",
        "         filtered_tokens.append(w)\n",
        "\n",
        "print(\"Tokenized Words:\",tokenized_to_word)\n",
        "print(\"Filterd Tokens:\",filtered_tokens)"
      ],
      "metadata": {
        "colab": {
          "base_uri": "https://localhost:8080/"
        },
        "id": "mSnp4K9QoJnT",
        "outputId": "43abf222-36e8-4231-be48-7deaf2b6a1e9"
      },
      "execution_count": null,
      "outputs": [
        {
          "output_type": "stream",
          "name": "stdout",
          "text": [
            "Tokenized Words: ['This', 'is', 'Data', 'Analytics', 'experiment', '7', '.', 'We', 'are', 'performing', 'tokenization', 'of', 'a', 'sentence', '.', 'Tokenization', 'is', 'basically', 'breaking', 'down', 'a', 'paragraph/sentence', 'into', 'smaller', 'chunks', 'or', 'words', '.']\n",
            "Filterd Tokens: ['This', 'Data', 'Analytics', 'experiment', '7', '.', 'We', 'performing', 'tokenization', 'sentence', '.', 'Tokenization', 'basically', 'breaking', 'paragraph/sentence', 'smaller', 'chunks', 'words', '.']\n"
          ]
        }
      ]
    },
    {
      "cell_type": "code",
      "source": [
        "import string"
      ],
      "metadata": {
        "id": "6ZFg3zLdoiWj"
      },
      "execution_count": null,
      "outputs": []
    },
    {
      "cell_type": "code",
      "source": [
        "punctuations=list(string.punctuation)"
      ],
      "metadata": {
        "id": "EWxqqz3ropm8"
      },
      "execution_count": null,
      "outputs": []
    },
    {
      "cell_type": "code",
      "source": [
        "filtered_tokens2=[]\n",
        "\n",
        "for i in filtered_tokens:\n",
        "    if i not in punctuations:\n",
        "        filtered_tokens2.append(i)\n",
        "\n",
        "print(\"Filterd Tokens After Removing Punctuations:\",filtered_tokens2)"
      ],
      "metadata": {
        "colab": {
          "base_uri": "https://localhost:8080/"
        },
        "id": "Ze8H63PIox6k",
        "outputId": "8582ea70-6494-4550-d239-0371b42c1dd7"
      },
      "execution_count": null,
      "outputs": [
        {
          "output_type": "stream",
          "name": "stdout",
          "text": [
            "Filterd Tokens After Removing Punctuations: ['This', 'Data', 'Analytics', 'experiment', '7', 'We', 'performing', 'tokenization', 'sentence', 'Tokenization', 'basically', 'breaking', 'paragraph/sentence', 'smaller', 'chunks', 'words']\n"
          ]
        }
      ]
    },
    {
      "cell_type": "markdown",
      "source": [
        "**Lexicon Normalization**\n",
        "\n",
        "Lexicon normalization considered as another type of noise in text. for example, connection, connected, connecting word reduce to a common word “connect”. It reduces derivationally related forms of a word to a common root word."
      ],
      "metadata": {
        "id": "53L6mIitpa1z"
      }
    },
    {
      "cell_type": "markdown",
      "source": [
        "STEMMING"
      ],
      "metadata": {
        "id": "Ran5txWsrevv"
      }
    },
    {
      "cell_type": "code",
      "source": [
        "from nltk.stem import PorterStemmer"
      ],
      "metadata": {
        "id": "1pZ3ruVOo1mk"
      },
      "execution_count": null,
      "outputs": []
    },
    {
      "cell_type": "code",
      "source": [
        "ps=PorterStemmer()"
      ],
      "metadata": {
        "id": "2GKy_q21perL"
      },
      "execution_count": null,
      "outputs": []
    },
    {
      "cell_type": "code",
      "source": [
        "stemmed_words=[]\n",
        "\n",
        "for w in filtered_tokens2:\n",
        "     stemmed_words.append(ps.stem(w))\n",
        "\n",
        "print(\"Filtered Tokens After Removing Punctuations:\",filtered_tokens2)\n",
        "print(\"Stemmed Tokens:\",stemmed_words)"
      ],
      "metadata": {
        "colab": {
          "base_uri": "https://localhost:8080/"
        },
        "id": "HirqYFtxpz_E",
        "outputId": "f70a3490-22da-4bab-93b2-a2f88d6836ad"
      },
      "execution_count": null,
      "outputs": [
        {
          "output_type": "stream",
          "name": "stdout",
          "text": [
            "Filtered Tokens After Removing Punctuations: ['This', 'Data', 'Analytics', 'experiment', '7', 'We', 'performing', 'tokenization', 'sentence', 'Tokenization', 'basically', 'breaking', 'paragraph/sentence', 'smaller', 'chunks', 'words']\n",
            "Stemmed Tokens: ['thi', 'data', 'analyt', 'experi', '7', 'we', 'perform', 'token', 'sentenc', 'token', 'basic', 'break', 'paragraph/sent', 'smaller', 'chunk', 'word']\n"
          ]
        }
      ]
    },
    {
      "cell_type": "markdown",
      "source": [
        "LEMMATIZATION"
      ],
      "metadata": {
        "id": "T7pWEbQArgzL"
      }
    },
    {
      "cell_type": "code",
      "source": [
        "from nltk.stem.wordnet import WordNetLemmatizer"
      ],
      "metadata": {
        "id": "zG2Qmk9Tq_3s"
      },
      "execution_count": null,
      "outputs": []
    },
    {
      "cell_type": "code",
      "source": [
        "lem = WordNetLemmatizer()\n",
        "stem = PorterStemmer()\n",
        "word = \"LEARNING\""
      ],
      "metadata": {
        "id": "rc07XzIbrie7"
      },
      "execution_count": null,
      "outputs": []
    },
    {
      "cell_type": "code",
      "source": [
        "nltk.download('wordnet')"
      ],
      "metadata": {
        "colab": {
          "base_uri": "https://localhost:8080/"
        },
        "id": "jkYsH1TWrw41",
        "outputId": "4e3f6c1e-19b7-4904-c289-c4b04db2f31e"
      },
      "execution_count": null,
      "outputs": [
        {
          "output_type": "stream",
          "name": "stderr",
          "text": [
            "[nltk_data] Downloading package wordnet to /root/nltk_data...\n"
          ]
        },
        {
          "output_type": "execute_result",
          "data": {
            "text/plain": [
              "True"
            ]
          },
          "metadata": {},
          "execution_count": 44
        }
      ]
    },
    {
      "cell_type": "code",
      "source": [
        "print(\"Lemmatized Word:\",lem.lemmatize(word,\"v\"))\n",
        "print(\"Stemmed Word:\",stem.stem(word))"
      ],
      "metadata": {
        "colab": {
          "base_uri": "https://localhost:8080/"
        },
        "id": "_PnSVYeorq_z",
        "outputId": "93f69a86-3025-480d-f04e-1ae147f2763c"
      },
      "execution_count": null,
      "outputs": [
        {
          "output_type": "stream",
          "name": "stdout",
          "text": [
            "Lemmatized Word: LEARNING\n",
            "Stemmed Word: learn\n"
          ]
        }
      ]
    },
    {
      "cell_type": "markdown",
      "source": [
        "**Part of Speech tagging**\n",
        "\n",
        "The main target of Part-of-Speech(POS) tagging is to identify the grammatical group of a given word. Whether it is a NOUN, PRONOUN, ADJECTIVE, VERB, ADVERBS, etc. based on the context.\n",
        "\n",
        "POS Tagging looks for relationships within the sentence and assigns a corresponding tag to the word."
      ],
      "metadata": {
        "id": "mbtetnSmsCFM"
      }
    },
    {
      "cell_type": "code",
      "source": [
        "from nltk import pos_tag"
      ],
      "metadata": {
        "id": "dDw6nmjNruHU"
      },
      "execution_count": null,
      "outputs": []
    },
    {
      "cell_type": "code",
      "source": [
        "nltk.download('averaged_perceptron_tagger')"
      ],
      "metadata": {
        "colab": {
          "base_uri": "https://localhost:8080/"
        },
        "id": "nDprH6tcs8td",
        "outputId": "fdfcba72-7eb1-4576-987e-965e5f3db46b"
      },
      "execution_count": null,
      "outputs": [
        {
          "output_type": "stream",
          "name": "stderr",
          "text": [
            "[nltk_data] Downloading package averaged_perceptron_tagger to\n",
            "[nltk_data]     /root/nltk_data...\n",
            "[nltk_data]   Unzipping taggers/averaged_perceptron_tagger.zip.\n"
          ]
        },
        {
          "output_type": "execute_result",
          "data": {
            "text/plain": [
              "True"
            ]
          },
          "metadata": {},
          "execution_count": 48
        }
      ]
    },
    {
      "cell_type": "code",
      "source": [
        "s = \"This is part of speech tagging.\"\n",
        "tokens = word_tokenize(s)\n",
        "pos = pos_tag(tokens)\n",
        "\n",
        "print(\"Tokens:\",tokens)\n",
        "print(\"PoS tags:\",pos)"
      ],
      "metadata": {
        "colab": {
          "base_uri": "https://localhost:8080/"
        },
        "id": "33ZofpUrsRVa",
        "outputId": "a1213ddf-0f86-4b16-abc9-4dbaa3245a8a"
      },
      "execution_count": null,
      "outputs": [
        {
          "output_type": "stream",
          "name": "stdout",
          "text": [
            "Tokens: ['This', 'is', 'part', 'of', 'speech', 'tagging', '.']\n",
            "PoS tags: [('This', 'DT'), ('is', 'VBZ'), ('part', 'NN'), ('of', 'IN'), ('speech', 'NN'), ('tagging', 'NN'), ('.', '.')]\n"
          ]
        }
      ]
    },
    {
      "cell_type": "markdown",
      "source": [
        "**Named Entity Recognition**"
      ],
      "metadata": {
        "id": "CKJeM-aftJnT"
      }
    },
    {
      "cell_type": "code",
      "source": [
        "from nltk import ne_chunk"
      ],
      "metadata": {
        "id": "Dsddqrr0s6NT"
      },
      "execution_count": null,
      "outputs": []
    },
    {
      "cell_type": "code",
      "source": [
        "sent = \"VESIT, Chembur. VES was founded in 1959 by Shri Hashu Advani, along with ten other members, who shared the dream of providing qualitative education to the youth of our country.\""
      ],
      "metadata": {
        "id": "_kV_oUR3tP_i"
      },
      "execution_count": null,
      "outputs": []
    },
    {
      "cell_type": "code",
      "source": [
        "nltk.download('maxent_ne_chunker')"
      ],
      "metadata": {
        "colab": {
          "base_uri": "https://localhost:8080/"
        },
        "id": "f5yiv8BZulDV",
        "outputId": "e3ae948a-f791-4f36-e1f5-1590ada944e2"
      },
      "execution_count": null,
      "outputs": [
        {
          "output_type": "stream",
          "name": "stderr",
          "text": [
            "[nltk_data] Downloading package maxent_ne_chunker to\n",
            "[nltk_data]     /root/nltk_data...\n",
            "[nltk_data]   Unzipping chunkers/maxent_ne_chunker.zip.\n"
          ]
        },
        {
          "output_type": "execute_result",
          "data": {
            "text/plain": [
              "True"
            ]
          },
          "metadata": {},
          "execution_count": 53
        }
      ]
    },
    {
      "cell_type": "code",
      "source": [
        "nltk.download('words')"
      ],
      "metadata": {
        "colab": {
          "base_uri": "https://localhost:8080/"
        },
        "id": "35ugsiNIuqqj",
        "outputId": "f199f86c-dc96-430c-896c-1817bd76e39b"
      },
      "execution_count": null,
      "outputs": [
        {
          "output_type": "stream",
          "name": "stderr",
          "text": [
            "[nltk_data] Downloading package words to /root/nltk_data...\n",
            "[nltk_data]   Unzipping corpora/words.zip.\n"
          ]
        },
        {
          "output_type": "execute_result",
          "data": {
            "text/plain": [
              "True"
            ]
          },
          "metadata": {},
          "execution_count": 55
        }
      ]
    },
    {
      "cell_type": "code",
      "source": [
        "for chunk in ne_chunk(nltk.pos_tag(word_tokenize(sent))):\n",
        "        if hasattr(chunk, 'label'):\n",
        "            print(chunk.label(), ' '.join(c[0] for c in chunk))"
      ],
      "metadata": {
        "colab": {
          "base_uri": "https://localhost:8080/"
        },
        "id": "Qb6Au6UpuZqE",
        "outputId": "c3a1b107-c951-482b-9238-8ac37043fe3d"
      },
      "execution_count": null,
      "outputs": [
        {
          "output_type": "stream",
          "name": "stdout",
          "text": [
            "GPE VESIT\n",
            "GPE Chembur\n",
            "ORGANIZATION VES\n",
            "PERSON Shri Hashu Advani\n"
          ]
        }
      ]
    },
    {
      "cell_type": "markdown",
      "source": [
        "# **TEXT ANALYSIS IN R**"
      ],
      "metadata": {
        "id": "IQyppPnbyG0b"
      }
    },
    {
      "cell_type": "markdown",
      "source": [
        "**Tokenization**"
      ],
      "metadata": {
        "id": "SCGi7hXhyKZ9"
      }
    },
    {
      "cell_type": "code",
      "source": [
        "install.packages(\"tokenizers\")"
      ],
      "metadata": {
        "colab": {
          "base_uri": "https://localhost:8080/"
        },
        "id": "WkAGLjEbyJZk",
        "outputId": "92d81bf3-85b5-42e1-9f18-bd69ca305841"
      },
      "execution_count": null,
      "outputs": [
        {
          "output_type": "stream",
          "name": "stderr",
          "text": [
            "Installing package into ‘/usr/local/lib/R/site-library’\n",
            "(as ‘lib’ is unspecified)\n",
            "\n",
            "also installing the dependencies ‘Rcpp’, ‘SnowballC’\n",
            "\n",
            "\n"
          ]
        }
      ]
    },
    {
      "cell_type": "code",
      "source": [
        "library(tokenizers)"
      ],
      "metadata": {
        "id": "jbz-oqxZyT-k"
      },
      "execution_count": null,
      "outputs": []
    },
    {
      "cell_type": "code",
      "source": [
        "text <- \"This is Data Analytics experiment 7. We are performing tokenization of a sentence. Tokenization is basically breaking down a paragraph/sentence into smaller chunks or words.\""
      ],
      "metadata": {
        "id": "iGf4qRcJyxYV"
      },
      "execution_count": null,
      "outputs": []
    },
    {
      "cell_type": "code",
      "source": [
        "word_tokenize <- unlist(tokenize_words(text))\n",
        "print(word_tokenize)"
      ],
      "metadata": {
        "colab": {
          "base_uri": "https://localhost:8080/"
        },
        "id": "M1scLlWWzRZ9",
        "outputId": "94a97246-16a0-4fde-d878-b14bb6452624"
      },
      "execution_count": null,
      "outputs": [
        {
          "output_type": "stream",
          "name": "stdout",
          "text": [
            " [1] \"this\"         \"is\"           \"data\"         \"analytics\"    \"experiment\"  \n",
            " [6] \"7\"            \"we\"           \"are\"          \"performing\"   \"tokenization\"\n",
            "[11] \"of\"           \"a\"            \"sentence\"     \"tokenization\" \"is\"          \n",
            "[16] \"basically\"    \"breaking\"     \"down\"         \"a\"            \"paragraph\"   \n",
            "[21] \"sentence\"     \"into\"         \"smaller\"      \"chunks\"       \"or\"          \n",
            "[26] \"words\"       \n"
          ]
        }
      ]
    },
    {
      "cell_type": "markdown",
      "source": [
        "**Stopwords**"
      ],
      "metadata": {
        "id": "C60Fbzwi00FL"
      }
    },
    {
      "cell_type": "code",
      "source": [
        "txt <- \"Welcome to colaboratory for exp7.\""
      ],
      "metadata": {
        "id": "CgXuB953zajs"
      },
      "execution_count": null,
      "outputs": []
    },
    {
      "cell_type": "code",
      "source": [
        "stop_word <- unlist(tokenize_words(text,lowercase = TRUE,stopwords = (\"to\"), strip_punct = TRUE, strip_numeric = TRUE, simplify = FALSE))\n",
        "print(stop_word)"
      ],
      "metadata": {
        "colab": {
          "base_uri": "https://localhost:8080/"
        },
        "id": "4NWT9rJT1J7f",
        "outputId": "ef407a05-78ff-4b77-c90e-91164abea3ca"
      },
      "execution_count": null,
      "outputs": [
        {
          "output_type": "stream",
          "name": "stdout",
          "text": [
            " [1] \"this\"         \"is\"           \"data\"         \"analytics\"    \"experiment\"  \n",
            " [6] \"we\"           \"are\"          \"performing\"   \"tokenization\" \"of\"          \n",
            "[11] \"a\"            \"sentence\"     \"tokenization\" \"is\"           \"basically\"   \n",
            "[16] \"breaking\"     \"down\"         \"a\"            \"paragraph\"    \"sentence\"    \n",
            "[21] \"into\"         \"smaller\"      \"chunks\"       \"or\"           \"words\"       \n"
          ]
        }
      ]
    },
    {
      "cell_type": "markdown",
      "source": [
        "**Frequency Distribution**"
      ],
      "metadata": {
        "id": "ikazjIS8NQJv"
      }
    },
    {
      "cell_type": "code",
      "source": [
        " library(\"dplyr\")"
      ],
      "metadata": {
        "id": "7h9QKsz91i-b",
        "colab": {
          "base_uri": "https://localhost:8080/"
        },
        "outputId": "925abf27-5f35-4855-a2b7-eb61d2b8ca09"
      },
      "execution_count": null,
      "outputs": [
        {
          "output_type": "stream",
          "name": "stderr",
          "text": [
            "\n",
            "Attaching package: ‘dplyr’\n",
            "\n",
            "\n",
            "The following objects are masked from ‘package:stats’:\n",
            "\n",
            "    filter, lag\n",
            "\n",
            "\n",
            "The following objects are masked from ‘package:base’:\n",
            "\n",
            "    intersect, setdiff, setequal, union\n",
            "\n",
            "\n"
          ]
        }
      ]
    },
    {
      "cell_type": "code",
      "source": [
        "df <- data.frame(col1 = c(\"DAV\",\"ML\",\"CSS\",\"SEPM\",\"R\", \"IVP\",\"DAV\",\"CSS\",\"ML\",\"DAV\", \"CSS\",\"SEPM\",\"DAV\",\"DAV\",\"CSS\"))"
      ],
      "metadata": {
        "id": "Stkg6-flNhdK"
      },
      "execution_count": null,
      "outputs": []
    },
    {
      "cell_type": "code",
      "source": [
        "print(\"Original Data\")\n",
        "print(df)\n",
        "df %>%\n",
        "  count(col1)"
      ],
      "metadata": {
        "colab": {
          "base_uri": "https://localhost:8080/",
          "height": 598
        },
        "id": "WvVMPeBhOHuA",
        "outputId": "2c942a0f-9f68-4f6e-c212-015386fd431a"
      },
      "execution_count": null,
      "outputs": [
        {
          "output_type": "stream",
          "name": "stdout",
          "text": [
            "[1] \"Original Data\"\n",
            "   col1\n",
            "1   DAV\n",
            "2    ML\n",
            "3   CSS\n",
            "4  SEPM\n",
            "5     R\n",
            "6   IVP\n",
            "7   DAV\n",
            "8   CSS\n",
            "9    ML\n",
            "10  DAV\n",
            "11  CSS\n",
            "12 SEPM\n",
            "13  DAV\n",
            "14  DAV\n",
            "15  CSS\n"
          ]
        },
        {
          "output_type": "display_data",
          "data": {
            "text/html": [
              "<table class=\"dataframe\">\n",
              "<caption>A data.frame: 6 × 2</caption>\n",
              "<thead>\n",
              "\t<tr><th scope=col>col1</th><th scope=col>n</th></tr>\n",
              "\t<tr><th scope=col>&lt;chr&gt;</th><th scope=col>&lt;int&gt;</th></tr>\n",
              "</thead>\n",
              "<tbody>\n",
              "\t<tr><td>CSS </td><td>4</td></tr>\n",
              "\t<tr><td>DAV </td><td>5</td></tr>\n",
              "\t<tr><td>IVP </td><td>1</td></tr>\n",
              "\t<tr><td>ML  </td><td>2</td></tr>\n",
              "\t<tr><td>R   </td><td>1</td></tr>\n",
              "\t<tr><td>SEPM</td><td>2</td></tr>\n",
              "</tbody>\n",
              "</table>\n"
            ],
            "text/markdown": "\nA data.frame: 6 × 2\n\n| col1 &lt;chr&gt; | n &lt;int&gt; |\n|---|---|\n| CSS  | 4 |\n| DAV  | 5 |\n| IVP  | 1 |\n| ML   | 2 |\n| R    | 1 |\n| SEPM | 2 |\n\n",
            "text/latex": "A data.frame: 6 × 2\n\\begin{tabular}{ll}\n col1 & n\\\\\n <chr> & <int>\\\\\n\\hline\n\t CSS  & 4\\\\\n\t DAV  & 5\\\\\n\t IVP  & 1\\\\\n\t ML   & 2\\\\\n\t R    & 1\\\\\n\t SEPM & 2\\\\\n\\end{tabular}\n",
            "text/plain": [
              "  col1 n\n",
              "1 CSS  4\n",
              "2 DAV  5\n",
              "3 IVP  1\n",
              "4 ML   2\n",
              "5 R    1\n",
              "6 SEPM 2"
            ]
          },
          "metadata": {}
        }
      ]
    },
    {
      "cell_type": "code",
      "source": [],
      "metadata": {
        "id": "D7WkjPetOK7Q"
      },
      "execution_count": null,
      "outputs": []
    }
  ]
}